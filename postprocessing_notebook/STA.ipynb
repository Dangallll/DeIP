{
 "cells": [
  {
   "cell_type": "code",
   "execution_count": null,
   "id": "f482a71a",
   "metadata": {},
   "outputs": [],
   "source": [
    "import numpy as np\n",
    "import matplotlib.pyplot as plt\n",
    "import tifffile as tiff\n",
    "import os\n",
    "from scipy import signal\n",
    "plt.style.use('default')"
   ]
  },
  {
   "cell_type": "markdown",
   "id": "761cb9f7",
   "metadata": {},
   "source": [
    "# STA"
   ]
  },
  {
   "cell_type": "markdown",
   "id": "79968e22",
   "metadata": {},
   "source": [
    "# utils"
   ]
  },
  {
   "cell_type": "code",
   "execution_count": null,
   "id": "7b0f17a0",
   "metadata": {},
   "outputs": [],
   "source": [
    "def window(curve, k, R1, R2):\n",
    "    window = curve[k-R1:k+R2]\n",
    "    return window\n",
    "\n",
    "def STA1(spikelist, channel, plot, Normalize, peaktime = False): \n",
    "    # spike frame list, int Channel, True/False, True/False\n",
    "    \n",
    "    R1 = window_size1\n",
    "    R2 = window_size2\n",
    "    \n",
    "    chidx = np.where(Ch_list==channel)[0]\n",
    "    \n",
    "    C = DffROI[:,chidx].flatten()\n",
    "\n",
    "    peaks = np.zeros((R1+R2, len(spikelist)))\n",
    "    \n",
    "    \n",
    "    for idx in range(len(spikelist)):\n",
    "        \n",
    "        peaks[:, idx] = window(C, spikelist[idx], R1, R2)\n",
    "\n",
    "    sta = np.mean(peaks, axis = 1)\n",
    "    \n",
    "    if Normalize == True:\n",
    "        \n",
    "        sta = sta / np.max(sta)\n",
    "    \n",
    "    if plot == True:\n",
    "        plt.plot(sta, label = \"ROI\" + str(channel))\n",
    "    \n",
    "    if peaktime == True:\n",
    "        print(\"peaktime of channel \",channel,\" => \", np.argmax(sta))\n",
    "    \n",
    "    return sta\n",
    "\n",
    "def STA2(spikelist, channel, plot, Normalize, peaktime = False): \n",
    "    # spike frame list, int Channel, True/False, True/False\n",
    "    \n",
    "    R1 = window_size1\n",
    "    R2 = window_size2\n",
    "    \n",
    "    chidx = np.where(Ch_list==channel)[0]\n",
    "    \n",
    "    C = DffROI[:,chidx].flatten()\n",
    "\n",
    "    peaks = np.zeros((R1+R2, len(spikelist)))\n",
    "    \n",
    "    \n",
    "    for idx in range(len(spikelist)):\n",
    "        \n",
    "        peaks[:, idx] = window(C, spikelist[idx], R1, R2)\n",
    "        \n",
    "    if plot:\n",
    "        plt.plot(peaks)\n",
    "    \n",
    "    return peaks"
   ]
  },
  {
   "cell_type": "markdown",
   "id": "85345357",
   "metadata": {},
   "source": [
    "## 1. load file"
   ]
  },
  {
   "cell_type": "code",
   "execution_count": null,
   "id": "1eb829b6",
   "metadata": {
    "scrolled": true
   },
   "outputs": [],
   "source": [
    "#**analyzing with saved DFFfile**\n",
    "\n",
    "import numpy as np\n",
    "import matplotlib.pyplot as plt\n",
    "import tifffile as tiff\n",
    "\n",
    "\n",
    "\n",
    "###input here###\n",
    "\n",
    "main_path = \"C:/Users/NPL/KGH/230609_Estim_sample\"\n",
    "filepath = \"C:/Users/NPL/KGH/230609_Estim_sample/Dff.tif\"\n",
    "\n",
    "###input here###\n",
    "\n",
    "\n",
    "\n",
    "Dff = tiff.imread(filepath)\n",
    "\n",
    "numFrames = max(Dff.shape)\n",
    "\n",
    "projection = np.mean(Dff, axis = 0)\n",
    "\n",
    "th_idx = np.where(projection != 0)\n",
    "\n",
    "k = np.array((th_idx[0], th_idx[1]))\n",
    "\n",
    "ROI = tuple(map(tuple, k.T))\n",
    "\n",
    "print(\"total\", len(ROI), \" pixels available : \\n\")\n",
    "print(ROI)"
   ]
  },
  {
   "cell_type": "markdown",
   "id": "04e0eb8e",
   "metadata": {},
   "source": [
    "# ROI(Channel) based Analysis"
   ]
  },
  {
   "cell_type": "markdown",
   "id": "9ec99d9e",
   "metadata": {},
   "source": [
    "## 2.Set Grid\n",
    "#### if use already generated grid, go to 2.2"
   ]
  },
  {
   "cell_type": "code",
   "execution_count": null,
   "id": "e355276e",
   "metadata": {
    "scrolled": true
   },
   "outputs": [],
   "source": [
    "#manual grid generation\n",
    "\n",
    "\n",
    "### input here ###\n",
    "\n",
    "row_0 = 13,28,40,57,69,80,111\n",
    "row_1 = 14,22,40,80,99,113\n",
    "row_2 = 18,33,40,57,68,80,104,113\n",
    "name_0 = 71,72,73,81,82,83,91,92\n",
    "name_1 = 41,42,43,0,61,62,63\n",
    "name_2 = 11,12,13, 21, 22, 23, 31,32,33\n",
    "\n",
    "### input here ###\n",
    "\n",
    "grid = np.zeros((3,120)).astype('int')\n",
    "\n",
    "totChannel = len(row_0) + len(row_1) + len(row_2) + 3\n",
    "\n",
    "count = 0\n",
    "for k in range (120):\n",
    "    if k in row_0:\n",
    "        count = count+1\n",
    "    grid[0,k] = name_0[count]\n",
    "    \n",
    "count = 0    \n",
    "for k in range (120):\n",
    "    if k in row_1:\n",
    "        count = count+1\n",
    "    grid[1,k] = name_1[count]\n",
    "    \n",
    "count = 0    \n",
    "for k in range (120):\n",
    "    if k in row_2:\n",
    "        count = count+1\n",
    "    grid[2,k] = name_2[count]\n",
    "    \n",
    "plt.imshow(grid);"
   ]
  },
  {
   "cell_type": "markdown",
   "id": "50d1559b",
   "metadata": {},
   "source": [
    "### 2.1 save grid"
   ]
  },
  {
   "cell_type": "code",
   "execution_count": null,
   "id": "dc5b5cfc",
   "metadata": {},
   "outputs": [],
   "source": [
    "# to save grid\n",
    "tiff.imsave(main_path + \"/\" + \"grid.tif\", grid) "
   ]
  },
  {
   "cell_type": "markdown",
   "id": "d1a8d30a",
   "metadata": {},
   "source": [
    "### 2.2 load grid"
   ]
  },
  {
   "cell_type": "code",
   "execution_count": null,
   "id": "5c664eff",
   "metadata": {},
   "outputs": [],
   "source": [
    "#else, load new grid\n",
    "grid = tiff.imread(\"C:/Users/NPL/KGH/Spon_denoised/grid.tiff\")\n",
    "plt.imshow(grid)"
   ]
  },
  {
   "cell_type": "markdown",
   "id": "d336931e",
   "metadata": {},
   "source": [
    "## 3. Assign pixels to grid(Channel)"
   ]
  },
  {
   "cell_type": "code",
   "execution_count": null,
   "id": "d70c122f",
   "metadata": {
    "scrolled": true
   },
   "outputs": [],
   "source": [
    "ch_assign = []\n",
    "\n",
    "for roi in ROI:\n",
    "    ch_assign.append(grid[roi[0], roi[1]])\n",
    "\n",
    "Uni = np.unique(ch_assign, return_counts = True)\n",
    "Ch_list = Uni[0]\n",
    "\n",
    "print(\"List of Channel\", Ch_list, '\\n')\n",
    "\n",
    "numCH = len(Ch_list)\n",
    "DffROI = np.zeros((numFrames,numCH))\n",
    "\n",
    "print(\"Channel assignment \\n\")\n",
    "\n",
    "for idx1 in range(numCH):\n",
    "    \n",
    "    channel = Ch_list[idx1]\n",
    "    \n",
    "    print(channel)\n",
    "    \n",
    "    k = np.where(ch_assign == channel) # index of ROI in certain channel\n",
    "    \n",
    "    for idx2 in k[0]:\n",
    "        coor = ROI[idx2]\n",
    "        print(coor) # ROI[idx2] = coordinate in certain channel\n",
    "        \n",
    "        DffROI[:,idx1] = DffROI[:,idx1] + Dff[:,coor[0], coor[1]]\n",
    "        \n",
    "    DffROI[:,idx1] = DffROI[:,idx1] / len(k[0])\n",
    "    \n",
    "    \n",
    "np.savetxt(main_path + \"/\" + \"grid_dff.csv\", DffROI, delimiter=',') "
   ]
  },
  {
   "cell_type": "markdown",
   "id": "f63ce627",
   "metadata": {},
   "source": [
    "# Spike Triggered Averaging"
   ]
  },
  {
   "cell_type": "markdown",
   "id": "735b537a",
   "metadata": {},
   "source": [
    "## Get spike timing(trigger, measured)"
   ]
  },
  {
   "cell_type": "code",
   "execution_count": null,
   "id": "320da5fb",
   "metadata": {},
   "outputs": [],
   "source": [
    "spikelist = [948, 2043, 3138, 4232, 5327, 6422, 7517, 8611, 9706, 10801, 11896, 12990, 14085, 15180, 16275, 17369, 18464, 19559, 20654, 21748, 22843, 23938, 25033, 26127, 27222, 28317, 29412, 30506, 31601, 32696, 33791, 34885, 35980, 37075, 38170, 39264, 40359, 41454, 42549, 43643, 44738, 45833, 46928, 48022, 49117, 50212, 51307, 52401, 53496, 54591, 55686, 56780, 57875, 58970, 60065, 61159, 62254, 63349, 64444, 65538, 66633, 67728, 68823, 69917, 71012, 72107, 73202, 74296, 75391, 76486, 77580, 78675, 79770, 80865, 81959, 83054, 84149, 85244, 86338, 87433]"
   ]
  },
  {
   "cell_type": "markdown",
   "id": "75807217",
   "metadata": {},
   "source": [
    "## 4. Visualize sample ROI and spike timing"
   ]
  },
  {
   "cell_type": "code",
   "execution_count": null,
   "id": "d87cda48",
   "metadata": {
    "scrolled": false
   },
   "outputs": [],
   "source": [
    "STD_ROI = 11\n",
    "\n",
    "threshold = 0.13\n",
    "\n",
    "window_size1 = 50\n",
    "window_size2 = 350\n",
    "\n",
    "VIEW_XLINE = True\n",
    "\n",
    "\n",
    "chidx = np.where(Ch_list==STD_ROI)[0]\n",
    "\n",
    "\n",
    "STD = DffROI[:,chidx]\n",
    "STD = STD.flatten()\n",
    "plt.figure(figsize=(10,3))\n",
    "plt.plot(STD)\n",
    "\n",
    "\n",
    "num_spike = len(spikelist)\n",
    "\n",
    "\n",
    "print(\"total \" + str(num_spike) + \" spikes in ROI\")\n",
    "if VIEW_XLINE:\n",
    "    for spike in spikelist:\n",
    "        plt.axvline(x = spike, color = 'r', linewidth = 1, alpha = 0.3)\n",
    "\n",
    "print(spikelist)"
   ]
  },
  {
   "cell_type": "markdown",
   "id": "3a4dfa3f",
   "metadata": {},
   "source": [
    "## 5. Do STA and TTX artifact removal"
   ]
  },
  {
   "cell_type": "code",
   "execution_count": null,
   "id": "931cc8dd",
   "metadata": {
    "scrolled": false
   },
   "outputs": [],
   "source": [
    "sta_for_std = STA1(spikelist,11, True, False, peaktime = True); #view averaged "
   ]
  },
  {
   "cell_type": "code",
   "execution_count": null,
   "id": "8ffda64f",
   "metadata": {},
   "outputs": [],
   "source": [
    "STA2(spikelist,11, True, True, peaktime = True); #view individual"
   ]
  },
  {
   "cell_type": "code",
   "execution_count": null,
   "id": "d68ed8f4",
   "metadata": {},
   "outputs": [],
   "source": [
    "for ch in Ch_list: # save individual peaks for all ROIs\n",
    "    np.savetxt(main_path +\"/\" + str(ch)+\".csv\", STA2(spikelist,ch, True, False, peaktime = True), delimiter = ',')"
   ]
  },
  {
   "cell_type": "code",
   "execution_count": null,
   "id": "7b7fc894",
   "metadata": {},
   "outputs": [],
   "source": [
    "#ttx artifact removal\n",
    "ROIAA = 33\n",
    "ttx = np.genfromtxt(main_path+\"/\"+str(ROIAA)+\"_ttx.csv\", dtype = 'float', delimiter = ',')\n",
    "ttx_avg = np.mean(ttx, axis = 1)\n",
    "plt.plot(ttx_avg)"
   ]
  },
  {
   "cell_type": "code",
   "execution_count": null,
   "id": "65decbb7",
   "metadata": {},
   "outputs": [],
   "source": [
    "removed = sta_for_std - ttx_avg\n",
    "plt.plot(removed)\n",
    "np.savetxt(main_path + \"/\" + str(ROIAA) + \"ttx_removed_avg.csv\", removed)"
   ]
  }
 ],
 "metadata": {
  "kernelspec": {
   "display_name": "Python 3 (ipykernel)",
   "language": "python",
   "name": "python3"
  },
  "language_info": {
   "codemirror_mode": {
    "name": "ipython",
    "version": 3
   },
   "file_extension": ".py",
   "mimetype": "text/x-python",
   "name": "python",
   "nbconvert_exporter": "python",
   "pygments_lexer": "ipython3",
   "version": "3.9.7"
  }
 },
 "nbformat": 4,
 "nbformat_minor": 5
}
