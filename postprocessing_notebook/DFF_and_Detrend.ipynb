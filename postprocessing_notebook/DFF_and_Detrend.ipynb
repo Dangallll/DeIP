{
 "cells": [
  {
   "cell_type": "code",
   "execution_count": null,
   "id": "f482a71a",
   "metadata": {},
   "outputs": [],
   "source": [
    "import numpy as np\n",
    "import matplotlib.pyplot as plt\n",
    "import tifffile as tiff\n",
    "import os\n",
    "plt.style.use('default')\n",
    "%matplotlib inline"
   ]
  },
  {
   "cell_type": "markdown",
   "id": "03843de8",
   "metadata": {},
   "source": [
    "# Baseline Correction to pixels above threshold\n",
    "### ** before running, examine image carefully and set threshold manually**"
   ]
  },
  {
   "cell_type": "markdown",
   "id": "f3259cf5",
   "metadata": {},
   "source": [
    "## 1. set parameters"
   ]
  },
  {
   "cell_type": "code",
   "execution_count": null,
   "id": "8d0486f1",
   "metadata": {},
   "outputs": [],
   "source": [
    "###input###\n",
    "\n",
    "main_path = \"C:/Users/NPL/KGH/230609_Estim_sample\"                                # results will be saved in this directory\n",
    "img_path = \"C:/Users/NPL/KGH/230609_Estim_sample/trial1_unmixed.tif\"        # 120 * 3 image, enter whole path\n",
    "newfilename = \"Dff.tif\"               # ex) *.tif(f)\n",
    "th = 5000 # threshold intensity : after visual inspection\n",
    "ValueisIntensity = False                         #if value of pixel equals intensitiy in loaded image file\n",
    "\n",
    "###input###"
   ]
  },
  {
   "cell_type": "markdown",
   "id": "e160cfe4",
   "metadata": {},
   "source": [
    "## 2.load image\n",
    "#### if colorbar is out of range in this step, change parameter : ValueisIntensity"
   ]
  },
  {
   "cell_type": "code",
   "execution_count": null,
   "id": "c464e457",
   "metadata": {},
   "outputs": [],
   "source": [
    "raw_image = tiff.imread(img_path).astype('int32')\n",
    "\n",
    "if ValueisIntensity == False:\n",
    "    image = raw_image\n",
    "else:\n",
    "    image = raw_image - 32768\n",
    "\n",
    "\n",
    "projection = np.mean(image, axis = 0)\n",
    "\n",
    "#preview\n",
    "plt.figure(figsize=(10,3))\n",
    "plt.imshow(projection)\n",
    "plt.colorbar()"
   ]
  },
  {
   "cell_type": "markdown",
   "id": "79372c16",
   "metadata": {},
   "source": [
    "## 3 .Thresholding"
   ]
  },
  {
   "cell_type": "code",
   "execution_count": null,
   "id": "72299c26",
   "metadata": {
    "scrolled": false
   },
   "outputs": [],
   "source": [
    "th_idx = np.where(projection > th)\n",
    "\n",
    "k = np.array((th_idx[0], th_idx[1]))\n",
    "\n",
    "roi = tuple(map(tuple, k.T))\n",
    "\n",
    "print(\"total\", len(roi), \" pixels available : \\n\")\n",
    "print(roi)"
   ]
  },
  {
   "cell_type": "markdown",
   "id": "683f1b0c",
   "metadata": {},
   "source": [
    "## 4. Validation"
   ]
  },
  {
   "cell_type": "code",
   "execution_count": null,
   "id": "13d005ee",
   "metadata": {
    "scrolled": true
   },
   "outputs": [],
   "source": [
    "#single pixel preview\n",
    "\n",
    "def pixel(a,b):\n",
    "    return image[:,a, b]\n",
    "\n",
    "\n",
    "###input###\n",
    "\n",
    "sample = (2,19)   # input pixel you'd like to preview\n",
    "\n",
    "###input###\n",
    "\n",
    "plt.figure(figsize=(12,4))\n",
    "plt.plot(pixel(sample[0], sample[1]))\n",
    "\n",
    "plt.plot();"
   ]
  },
  {
   "cell_type": "markdown",
   "id": "dc4424fe",
   "metadata": {},
   "source": [
    "## 5. Baseline correction, Get dF/F0"
   ]
  },
  {
   "cell_type": "code",
   "execution_count": null,
   "id": "9a56649a",
   "metadata": {},
   "outputs": [],
   "source": [
    "### input\n",
    "\n",
    "S_frame = 10000\n",
    "E_frame = 110000\n",
    "quantile = 0.49\n",
    "\n",
    "### input\n",
    "\n",
    "\n",
    "def getDFF(pixel, Bin = 1000, crop = (S_frame,E_frame), Q = quantile):\n",
    "    \n",
    "    baseline = np.zeros(crop[1]-crop[0])\n",
    "    \n",
    "    for i in range(crop[0], crop[1]):\n",
    "        \n",
    "        window = pixel[i-Bin:i+Bin]\n",
    "        base = np.quantile(window, Q)\n",
    "        baseline[i-crop[0]] = base\n",
    "    \n",
    "    F0 = np.median(baseline)\n",
    "    DFF = (pixel[crop[0]:crop[1]] - baseline) / F0\n",
    "    return DFF\n",
    "\n",
    "# return dF/F0 by accepting certain pixel z profile as input\n",
    "# Bin = interpolation window + -\n",
    "# crop = cropped first, last 5000 frames to avoid fluctuation"
   ]
  },
  {
   "cell_type": "markdown",
   "id": "0124e93c",
   "metadata": {},
   "source": [
    "## 6. Validate \n",
    "#### in case of unsatisfactory signal, adjust parameters"
   ]
  },
  {
   "cell_type": "code",
   "execution_count": null,
   "id": "dfef9cdc",
   "metadata": {
    "scrolled": false
   },
   "outputs": [],
   "source": [
    "#function getDFF preview\n",
    "plt.figure(figsize=(12,3))\n",
    "plt.plot(getDFF(pixel(2,19)))\n",
    "plt.axhline(0, color='r')\n",
    "plt.xlabel(\"frames\")\n",
    "plt.ylabel(\"dF/F0\"); "
   ]
  },
  {
   "cell_type": "markdown",
   "id": "954abc58",
   "metadata": {},
   "source": [
    "## 7. Apply function to pixels above threshold & save"
   ]
  },
  {
   "cell_type": "code",
   "execution_count": null,
   "id": "9d9b6650",
   "metadata": {
    "scrolled": true
   },
   "outputs": [],
   "source": [
    "numframes = E_frame - S_frame\n",
    "Dff = np.zeros((numframes,3,120))\n",
    "\n",
    "print(\"will be saved as : \" + main_path +\"/\"+ newfilename)\n",
    "\n",
    "for cor in range(360):\n",
    "    twocor = divmod(cor, 120)\n",
    "        \n",
    "    if twocor in roi:\n",
    "        \n",
    "        print(\"\\rprocessing\", twocor, end=\"\")\n",
    "        \n",
    "        column = getDFF(pixel(twocor[0], twocor[1]))\n",
    "        Dff[:,twocor[0], twocor[1]] = column\n",
    "        \n",
    "    else:\n",
    "        \n",
    "        column = np.zeros((numframes))\n",
    "        Dff[:,twocor[0], twocor[1]] = column\n",
    "        \n",
    "print(\"\\nsaving...\")\n",
    "\n",
    "tiff.imsave(main_path + \"/\" + newfilename, Dff)\n",
    "\n",
    "print(\"done!\")"
   ]
  }
 ],
 "metadata": {
  "kernelspec": {
   "display_name": "Python 3 (ipykernel)",
   "language": "python",
   "name": "python3"
  },
  "language_info": {
   "codemirror_mode": {
    "name": "ipython",
    "version": 3
   },
   "file_extension": ".py",
   "mimetype": "text/x-python",
   "name": "python",
   "nbconvert_exporter": "python",
   "pygments_lexer": "ipython3",
   "version": "3.9.7"
  }
 },
 "nbformat": 4,
 "nbformat_minor": 5
}
